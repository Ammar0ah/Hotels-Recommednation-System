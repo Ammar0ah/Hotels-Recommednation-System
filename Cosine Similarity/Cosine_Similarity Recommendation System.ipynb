{
 "cells": [
  {
   "cell_type": "code",
   "execution_count": null,
   "metadata": {},
   "outputs": [],
   "source": [
    "import nltk\n",
    "import tensorflow as tf\n",
    "import numpy as np\n",
    "import pandas as pd\n",
    "import seaborn as sns\n",
    "from sklearn.feature_extraction.text import TfidfVectorizer\n",
    "from sklearn.metrics.pairwise import linear_kernel,cosine_similarity\n",
    "import nltk\n",
    "from nltk.corpus import stopwords\n",
    "from nltk import word_tokenize,PorterStemmer\n",
    "import re\n",
    "import string\n",
    "\n"
   ]
  },
  {
   "cell_type": "code",
   "execution_count": null,
   "metadata": {},
   "outputs": [],
   "source": [
    "hotels_df = pd.read_csv('hotels_reviews.csv')\n",
    "# df.sample(10)"
   ]
  },
  {
   "cell_type": "code",
   "execution_count": null,
   "metadata": {},
   "outputs": [],
   "source": [
    "hotels_df.head(10)"
   ]
  },
  {
   "cell_type": "markdown",
   "metadata": {},
   "source": [
    "### Load Saved Data\n"
   ]
  },
  {
   "cell_type": "code",
   "execution_count": null,
   "metadata": {},
   "outputs": [],
   "source": [
    "import pickle\n",
    "tfidf_matrix = pickle.load(open('tfidf_matrix.pkl','rb'))\n",
    "tfidf_matrix.shape"
   ]
  },
  {
   "cell_type": "code",
   "execution_count": null,
   "metadata": {},
   "outputs": [],
   "source": [
    "def sparse_row_norm(A):\n",
    "    out = np.zeros(A.shape[0])\n",
    "    # ufunc.reduceat only works properly for strictly increasing points\n",
    "    # as a workaround we filter out empty rows\n",
    "    nz, = np.diff(A.indptr).nonzero()\n",
    "    out[nz] = np.sqrt(np.add.reduceat(np.square(A.data),A.indptr[nz]))\n",
    "    return out"
   ]
  },
  {
   "cell_type": "code",
   "execution_count": null,
   "metadata": {},
   "outputs": [],
   "source": [
    "copy = hotels_df.copy()\n",
    "copy.set_index('name',inplace=True)\n",
    "indecies = pd.Series(copy.index)"
   ]
  },
  {
   "cell_type": "code",
   "execution_count": null,
   "metadata": {},
   "outputs": [],
   "source": [
    "idx =indecies[indecies == '100 Sunset Hotel Managed by Eagle Eyes'].index[0]\n"
   ]
  },
  {
   "cell_type": "code",
   "execution_count": null,
   "metadata": {},
   "outputs": [],
   "source": [
    "from sklearn.preprocessing import normalize\n",
    "tfidf = TfidfVectorizer(stop_words='english',max_features=10000)\n",
    "tfidf_matrix = tfidf.fit_transform(hostels_df['review_cleaned'])\n",
    "### Load Saved Data\n",
    "\n",
    "\n",
    "import pickle\n",
    "tfidf_matrix = pickle.load(open('tfidf_matrix.pkl','rb'))\n",
    "tfidf_matrix.shape\n",
    "\n",
    "def sparse_row_norm(A):\n",
    "    out = np.zeros(A.shape[0])\n",
    "    # ufunc.reduceat only works properly for strictly increasing points\n",
    "    # as a workaround we filter out empty rows\n",
    "    nz, = np.diff(A.indptr).nonzero()\n",
    "    out[nz] = np.sqrt(np.add.reduceat(np.square(A.data),A.indptr[nz]))\n",
    "    return out\n",
    "\n",
    "from scipy import sparse\n",
    "\n",
    "from time import time\n",
    "\n",
    "\n",
    "# calculate similraities vectors\n",
    "tfidf_matrix = sparse.csr_matrix(tfidf_matrix)\n",
    "norm_matrix = sparse_row_norm(tfidf_matrix[:10000])\n",
    "similarities = []\n",
    "transpored_matrix = tfidf_matrix[:10000].T\n",
    "for i,vector in enumerate(tfidf_matrix[:10000]):\n",
    "    print(i)\n",
    "    similarities.extend(np.dot(vector,transpored_matrix)/ np.multiply(sparse_row_norm(vector),norm_matrix))\n",
    "\n",
    "\"\"\n",
    "\n",
    "\n",
    "print('----------')\n",
    "\n",
    "cos_sim = linear_kernel(tfidf_matrix[:10000],tfidf_matrix[:10000])\n",
    "\n",
    "\n",
    "cos_sim.shape\n",
    "\n",
    "copy = hotels_df.copy()\n",
    "copy.set_index('name',inplace=True)\n",
    "indecies = pd.Series(copy.index)\n",
    "\n",
    "idx =indecies[indecies == '100 Sunset Hotel Managed by Eagle Eyes'].index[0]\n",
    "\n",
    "\n",
    "recommended_hotels= []\n",
    "score_series = pd.Series(cos_sim[idx]).sort_values(ascending = False)\n",
    "top_10_indexes = list(score_series.iloc[1:11].index)\n",
    "    \n",
    "    # populating the list with the names of the top 10 matching hotels\n",
    "for i in top_10_indexes:\n",
    "        recommended_hotels.append(list(copy.index)[i])"
   ]
  },
  {
   "cell_type": "markdown",
   "metadata": {},
   "source": [
    "### Try with linear_kernel"
   ]
  },
  {
   "cell_type": "code",
   "execution_count": null,
   "metadata": {},
   "outputs": [],
   "source": [
    "cos_sim = linear_kernel(tfidf_matrix[:10000],tfidf_matrix[:10000])\n"
   ]
  },
  {
   "cell_type": "code",
   "execution_count": null,
   "metadata": {},
   "outputs": [],
   "source": [
    "cos_sim.shape"
   ]
  },
  {
   "cell_type": "code",
   "execution_count": null,
   "metadata": {},
   "outputs": [],
   "source": [
    "recommended_hotels= []\n",
    "score_series = pd.Series(cos_sim[idx]).sort_values(ascending = False)\n",
    "top_10_indexes = list(score_series.iloc[1:11].index)\n",
    "    \n",
    "    # populating the list with the names of the top 10 matching hotels\n",
    "for i in top_10_indexes:\n",
    "        recommended_hotels.append(list(copy.index)[i])"
   ]
  }
 ],
 "metadata": {
  "kernelspec": {
   "display_name": "Python 3",
   "language": "python",
   "name": "python3"
  },
  "language_info": {
   "codemirror_mode": {
    "name": "ipython",
    "version": 3
   },
   "file_extension": ".py",
   "mimetype": "text/x-python",
   "name": "python",
   "nbconvert_exporter": "python",
   "pygments_lexer": "ipython3",
   "version": "3.8.3"
  }
 },
 "nbformat": 4,
 "nbformat_minor": 4
}
